{
 "cells": [
  {
   "cell_type": "heading",
   "metadata": {
    "collapsed": true
   },
   "level": 1,
   "source": [
    "Combinations of parameters"
   ]
  },
  {
   "cell_type": "markdown",
   "metadata": {},
   "source": [
    "This is a way to combine multiple parameters for use in a single for loop where you need to use every combination of all parameters.\n",
    "\n",
    "For example if we want: \n",
    "- Mass between 0.1 and 2 $M_\\odot$ in steps of 0.1 $M_\\odot$ \n",
    "- $T_{eff}$  between 2000 K and 5000 K in steps of 500 K\n",
    "- $log(g)$ between 3 and 5 in steps of 0.05\n",
    "- $Z$ between -1.5 and 0.5 in steps of 0.1\n",
    "\n",
    "Then we have many combinations and looping around these in nested loops is in practical\n",
    "\n",
    "For example:"
   ]
  },
  {
   "cell_type": "code",
   "execution_count": 5,
   "metadata": {},
   "outputs": [],
   "source": [
    "# imports\n",
    "import numpy as np\n",
    "\n",
    "# define ranges of parameters\n",
    "Mass = np.arange(0.1, 2.1, 0.1)\n",
    "Teff = np.arange(2000.0, 5500.0, 500.0)\n",
    "logg = np.arange(3, 5.1, 0.05)\n",
    "Z = np.arange(-1.5, 0.6, 0.1)\n",
    "\n",
    "# storage arrays\n",
    "combinations = []\n",
    "results = []\n",
    "# Create all combinations and work out result\n",
    "for m in Mass:\n",
    "    for t in Teff:\n",
    "        for g in logg:\n",
    "            for z in Z:\n",
    "                # store combinations\n",
    "                combinations.append([m, t, g, z])\n",
    "                # calcualte this iteration result\n",
    "                result = m + t**(-3) + g/z\n",
    "                # store result\n",
    "                results.append(result)"
   ]
  },
  {
   "cell_type": "markdown",
   "metadata": {},
   "source": [
    "This 4 nested \"for\" loops already looks ugly, for many parameters this just becomes unfeasible.\n",
    "\n",
    "However there is a better way using itertools:"
   ]
  },
  {
   "cell_type": "heading",
   "metadata": {},
   "level": 2,
   "source": [
    "Using itertools.product"
   ]
  },
  {
   "cell_type": "code",
   "execution_count": 8,
   "metadata": {},
   "outputs": [],
   "source": [
    "#imports\n",
    "import numpy as np\n",
    "import itertools\n",
    "\n",
    "# define ranges of parameters\n",
    "Mass = np.arange(0.1, 2.1, 0.1)\n",
    "Teff = np.arange(2000.0, 5500.0, 500.0)\n",
    "logg = np.arange(3, 5.1, 0.05)\n",
    "Z = np.arange(-1.5, 0.6, 0.1)\n",
    "\n",
    "# get all combinations as a 1D list\n",
    "combinations = list(itertools.product(Mass, Teff, logg, Z))"
   ]
  },
  {
   "cell_type": "markdown",
   "metadata": {},
   "source": [
    "Note here that I use \"list(x)\" to convert the itertools generator to a list. A generator will not have any access to values until they are used in, for example, a \"for\" loop. We will want to keep track of the combinations so we must create the whole list.\n",
    "\n",
    "Now we can do our single for loop:"
   ]
  },
  {
   "cell_type": "code",
   "execution_count": 9,
   "metadata": {},
   "outputs": [],
   "source": [
    "# storage\n",
    "results = []\n",
    "# single for loop around each variable\n",
    "for combination in combinations:\n",
    "    # get variables for this iteration\n",
    "    Mass_i, Teff_i, logg_i, Z_i = combination\n",
    "    # calcualte this iteration result\n",
    "    result = Mass_i + Teff_i**(-3) + logg_i/Z_i\n",
    "    # store result\n",
    "    results.append(result)"
   ]
  },
  {
   "cell_type": "markdown",
   "metadata": {},
   "source": [
    "Note that each combinbation in \"combinations\" is stored as a tuple or list of the invidiual parameters in the **same** order as placed in the itertools.product command.\n",
    "\n",
    "As such there is a neat way to compress the above code by defining a function to do the calculate the result:"
   ]
  },
  {
   "cell_type": "code",
   "execution_count": 11,
   "metadata": {},
   "outputs": [],
   "source": [
    "# define worker function that calculates result from input parameters\n",
    "#  Note these must be in the same order as input to itertools.product\n",
    "def science_result(mass, teff, lg, z):\n",
    "    result = mass + teff**(-3) + lg/z\n",
    "    # return result\n",
    "    return result\n",
    "# storage\n",
    "results = []\n",
    "# compressed for loop\n",
    "for combination in combinations:\n",
    "    # work out result directly\n",
    "    result = science_result(*combination)\n",
    "    # store result\n",
    "    results.append(result)"
   ]
  },
  {
   "cell_type": "markdown",
   "metadata": {},
   "source": [
    "Note in our example above we use the asterix notation, this simply \"pipes\" the tuple or list variables into the variables called in the function (and as such **MUST** be the same length as number of arguments in our function (in our case 4). If combinations was correctly created using our 4 variables we know that each combination will have 4 values for each iteration, thus this \"piping\" works as one would expect."
   ]
  },
  {
   "cell_type": "heading",
   "metadata": {},
   "level": 2,
   "source": [
    "A further simplication"
   ]
  },
  {
   "cell_type": "markdown",
   "metadata": {},
   "source": [
    "One further thing we can do with this is note that actually we don't need to for loop at all in this situation.\n",
    "\n",
    "Using numpy matrix operations we can actually workout all combinations of the \"science result\" at once (utalising numpys matrix operations written in C for a significant speed up - assuming our matrices aren't too large to load in a single operation).\n",
    "\n",
    "This is shown below (for clarity I have redeclared the parameters from above):"
   ]
  },
  {
   "cell_type": "code",
   "execution_count": 14,
   "metadata": {},
   "outputs": [],
   "source": [
    "#imports\n",
    "import numpy as np\n",
    "import itertools\n",
    "\n",
    "# define worker function that calculates result from input parameters\n",
    "#  Note these must be in the same order as input to itertools.product\n",
    "def science_result(mass, teff, lg, z):\n",
    "    result = mass + teff**(-3) + lg/z\n",
    "    # return result\n",
    "    return result\n",
    "\n",
    "# define ranges of parameters\n",
    "Mass = np.arange(0.1, 2.1, 0.1)\n",
    "Teff = np.arange(2000.0, 5500.0, 500.0)\n",
    "logg = np.arange(3, 5.1, 0.05)\n",
    "Z = np.arange(-1.5, 0.6, 0.1)\n",
    "\n",
    "# get all combinations as a 1D list\n",
    "combinations = list(itertools.product(Mass, Teff, logg, Z))\n",
    "\n",
    "# convert to a numpy matrix\n",
    "combinations = np.array(combinations)\n",
    "\n",
    "# extract out our matrices (one could just use combinations)\n",
    "Mass_m = combinations[:, 0]\n",
    "Teff_m = combinations[:, 1]\n",
    "logg_m = combinations[:, 2]\n",
    "z_m = combinations[:, 3]\n",
    "\n",
    "# work out all our results at once (no for loop required)\n",
    "results = science_result(Mass_m, Teff_m, logg_m, z_m)\n",
    "\n",
    "# or this:\n",
    "# results = science_results(combinations[:, 0], combinations[:, 1],\n",
    "#                           combinations[:, 2], combinations[:, 3])\n",
    "\n",
    "\n",
    "\n",
    "\n",
    "\n"
   ]
  }
 ],
 "metadata": {
  "kernelspec": {
   "display_name": "Python 2",
   "language": "python",
   "name": "python2"
  },
  "language_info": {
   "codemirror_mode": {
    "name": "ipython",
    "version": 2
   },
   "file_extension": ".py",
   "mimetype": "text/x-python",
   "name": "python",
   "nbconvert_exporter": "python",
   "pygments_lexer": "ipython2",
   "version": "2.7.6"
  }
 },
 "nbformat": 4,
 "nbformat_minor": 0
}
